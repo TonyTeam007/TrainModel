{
 "cells": [
  {
   "cell_type": "code",
   "execution_count": 4,
   "metadata": {},
   "outputs": [],
   "source": [
    "import os\n",
    "import cv2\n",
    "import base64\n",
    "import requests\n",
    "import pickle"
   ]
  },
  {
   "cell_type": "code",
   "execution_count": 45,
   "metadata": {},
   "outputs": [],
   "source": [
    "from sklearn.preprocessing import LabelEncoder\n",
    "from sklearn.tree import DecisionTreeClassifier\n",
    "from sklearn.metrics import confusion_matrix, accuracy_score\n",
    "import pickle\n",
    "import xgboost as xgb\n",
    "from sklearn.ensemble import VotingClassifier"
   ]
  },
  {
   "cell_type": "code",
   "execution_count": 40,
   "metadata": {},
   "outputs": [],
   "source": [
    "path = \"CarsDataset/test\" # Cars Dataset/train & Cats Dataset/test ใช้สำหรับสับ path ของ train และ test\n",
    "list_x = [] #เก็บ Base64 \n",
    "list_y = [] #เก็บไฟล์เกี่ยวกับรถยนต์\n",
    "\n",
    "for sub in os.listdir(path): #นำรูปภาพจาก path มาเก็บโดย loop มาเก็บ\n",
    "    for fn in os.listdir(os.path.join(path, sub)):\n",
    "        path_file_img = os.path.join(path, sub, fn)\n",
    "        readImage = cv2.imread(path_file_img, cv2.IMREAD_GRAYSCALE)\n",
    "        list_x.append(readImage) #เก็บ Base64 \n",
    "        list_y.append(sub) #เก็บไฟล์เกี่ยวกับรถยนต์"
   ]
  },
  {
   "cell_type": "code",
   "execution_count": 41,
   "metadata": {},
   "outputs": [],
   "source": [
    "def imgtovec(img): # Funtion สำหรับเก็บ Api\n",
    "    try:\n",
    "        resized_img = cv2.resize(img, (128, 128), cv2.INTER_AREA)\n",
    "        v, buffer = cv2.imencode(\".jpg\", resized_img)\n",
    "        img_str = base64.b64encode(buffer).decode('utf-8')\n",
    "        image_data_string = img_str\n",
    "\n",
    "        url = \"http://127.0.0.1:80/api/genhog\"\n",
    "        params = {\"img\": image_data_string}\n",
    "\n",
    "        response = requests.get(url, json=params)\n",
    "\n",
    "        if response.status_code == 200:\n",
    "            return response.json()\n",
    "        else:\n",
    "            return {\"error\": f\"เรียก API ไม่สำเร็จ API CODE : {response.status_code}\"}\n",
    "    except Exception as ex:\n",
    "        return {\"error\": f\"เกิดข้อผิดพลาด: {str(ex)}\"}"
   ]
  },
  {
   "cell_type": "code",
   "execution_count": 42,
   "metadata": {},
   "outputs": [],
   "source": [
    "hogvectors = [] # ส่งรูป base64 ให้ api แปลงเป็น hogvector #\n",
    "for i in range(len(list_x)):\n",
    "    res = imgtovec(list_x[i])\n",
    "    vec = list(res[\"hog\"])\n",
    "    vec.append(list_y[i])\n",
    "    hogvectors.append(vec)"
   ]
  },
  {
   "cell_type": "code",
   "execution_count": 46,
   "metadata": {},
   "outputs": [
    {
     "name": "stdout",
     "output_type": "stream",
     "text": [
      "data preparation is done\n"
     ]
    }
   ],
   "source": [
    "write_path = \"hogvectors_test.pkl\" #swap train to test สร้างไฟล์สำหรับ test และ train \n",
    "pickle.dump(hogvectors, open(write_path, \"wb\"))\n",
    "print(\"data preparation is done\")"
   ]
  },
  {
   "cell_type": "code",
   "execution_count": 69,
   "metadata": {},
   "outputs": [],
   "source": [
    "hogvectors_train = pickle.load(open('hogvectors_train.pkl', 'rb')) #อ่านไฟล์มาเก็บสำหรับ train\n",
    "hogvectors_test = pickle.load(open('hogvectors_test.pkl', 'rb')) #อ่านไฟล์มาเก็บสำหรับ train"
   ]
  },
  {
   "cell_type": "code",
   "execution_count": 70,
   "metadata": {},
   "outputs": [],
   "source": [
    "# ดึงข้อมูลแถวและคอลัมน์มาทำเป็น feature และเก็บค่าไว้แยกกันสำหรับ train และ test \n",
    "X_train_data = [hogfeature_Xtrain[0:8100] for hogfeature_Xtrain in hogvectors_train] \n",
    "X_test_data = [hogfeature_Xtest[0:8100] for hogfeature_Xtest in hogvectors_test]"
   ]
  },
  {
   "cell_type": "code",
   "execution_count": 71,
   "metadata": {},
   "outputs": [],
   "source": [
    "# ดึงข้อมูลแถวและคอลัมน์มาทำเป็น class และเก็บค่าไว้แยกกันสำหรับ train และ test \n",
    "Y_train_data = [hogfeature_Ytrain[-1] for hogfeature_Ytrain in hogvectors_train]\n",
    "Y_test_data = [hogfeature_Ytest[-1] for hogfeature_Ytest in hogvectors_test]"
   ]
  },
  {
   "cell_type": "code",
   "execution_count": 72,
   "metadata": {},
   "outputs": [],
   "source": [
    "label_encoder = LabelEncoder() #object label_encoder จาก Class LabelEncoder แปลงชื่อยี่ห้องมาเป็นข้อมูลตัวเลข\n",
    "y_cls_train = label_encoder.fit(Y_train_data) # .fit(Y_train_data) เพื่อ train ชื่อยี่ห้อรถยนต์จะถูกแทนด้วยตัวเลข \n",
    "y_labelNum_train = label_encoder.transform(Y_train_data)\n",
    "y_cls_test = label_encoder.fit(Y_test_data)\n",
    "y_labelNum_test = label_encoder.transform(Y_test_data) \n",
    "# แปลง String ยี่ห้อรถจาก Test เป็น TableIndex"
   ]
  },
  {
   "cell_type": "code",
   "execution_count": 73,
   "metadata": {},
   "outputs": [],
   "source": [
    "clf = DecisionTreeClassifier(random_state=42)\n",
    "# สร้าง object model DecisionTree"
   ]
  },
  {
   "cell_type": "code",
   "execution_count": 74,
   "metadata": {},
   "outputs": [],
   "source": [
    "xgb_model = xgb.XGBClassifier(objective=\"multi:softmax\",num_class=len(label_encoder.classes_), random_state=42)\n",
    "# สร้าง object modelXGBoost"
   ]
  },
  {
   "cell_type": "code",
   "execution_count": 75,
   "metadata": {},
   "outputs": [],
   "source": [
    "ensemble_model = VotingClassifier(estimators=[('DecisionTree', clf), ('XGBoost', xgb_model)], voting='hard',weights=[1, 4])\n",
    "# ทำการรวม 2 model และเก็บไว้ "
   ]
  },
  {
   "cell_type": "code",
   "execution_count": 76,
   "metadata": {},
   "outputs": [
    {
     "data": {
      "text/plain": [
       "VotingClassifier(estimators=[('DecisionTree',\n",
       "                              DecisionTreeClassifier(random_state=42)),\n",
       "                             ('XGBoost',\n",
       "                              XGBClassifier(base_score=None, booster=None,\n",
       "                                            callbacks=None,\n",
       "                                            colsample_bylevel=None,\n",
       "                                            colsample_bynode=None,\n",
       "                                            colsample_bytree=None,\n",
       "                                            early_stopping_rounds=None,\n",
       "                                            enable_categorical=False,\n",
       "                                            eval_metric=None, gamma=None,\n",
       "                                            gpu_id=None, grow_policy=None,\n",
       "                                            importance_type=None,\n",
       "                                            interaction_constraints=None,\n",
       "                                            learning_rate=None, max_bin=None,\n",
       "                                            max_cat_to_onehot=None,\n",
       "                                            max_delta_step=None, max_depth=None,\n",
       "                                            max_leaves=None,\n",
       "                                            min_child_weight=None, missing=nan,\n",
       "                                            monotone_constraints=None,\n",
       "                                            n_estimators=100, n_jobs=None,\n",
       "                                            num_class=7, num_parallel_tree=None,\n",
       "                                            objective='multi:softmax',\n",
       "                                            predictor=None, random_state=42, ...))],\n",
       "                 weights=[1, 4])"
      ]
     },
     "execution_count": 76,
     "metadata": {},
     "output_type": "execute_result"
    }
   ],
   "source": [
    "ensemble_model.fit(X_train_data, y_labelNum_train)\n",
    "# .fit() X_train_data เป็นการให้ model train ข้อมูล และ Y_train_data เป็นคำตอบที่ควรจะได้จากการ train"
   ]
  },
  {
   "cell_type": "code",
   "execution_count": 77,
   "metadata": {},
   "outputs": [],
   "source": [
    "y_pred = ensemble_model.predict(X_test_data) \n",
    "# ทดสอบ X_test_data เพื่อไว้ทำนายผลลัพธ์ที่ได้จากโมเดลนี้ของข้อมูล test"
   ]
  },
  {
   "cell_type": "code",
   "execution_count": 78,
   "metadata": {},
   "outputs": [
    {
     "name": "stdout",
     "output_type": "stream",
     "text": [
      "Accuracy:  0.6629766297662977\n",
      "Confusion Matrix:  [[167   1   2   4   1   9  15]\n",
      " [  7  41   0   2   3   2  12]\n",
      " [ 12   1  36   0   2   1  23]\n",
      " [ 41   1   3  19   1   2   7]\n",
      " [ 18   4   3   0  49   3  25]\n",
      " [ 19   3   2   0   2  74   6]\n",
      " [ 21   1   0   2  10   3 153]]\n"
     ]
    }
   ],
   "source": [
    "accuracy = accuracy_score(y_labelNum_test, y_pred)\n",
    "confusionMatrix = confusion_matrix(y_labelNum_test, y_pred)\n",
    "print(\"Accuracy: \", accuracy)\n",
    "print(\"Confusion Matrix: \", confusionMatrix) \n",
    "#นำค่า Accuracy ที่ได้จากการ test มาแสดง ยิ่งใกล้ 1 ยิ่งแม่นยำ"
   ]
  },
  {
   "cell_type": "code",
   "execution_count": 79,
   "metadata": {},
   "outputs": [],
   "source": [
    "path_model = 'model_genhog.pkl'\n",
    "pickle.dump(ensemble_model, open(path_model, 'wb'))\n",
    "# สร้าง model_genhog.pkl เพื่อทำการเก็บ Model การ train and test ครั้งนี้"
   ]
  }
 ],
 "metadata": {
  "kernelspec": {
   "display_name": "Python 3",
   "language": "python",
   "name": "python3"
  },
  "language_info": {
   "codemirror_mode": {
    "name": "ipython",
    "version": 3
   },
   "file_extension": ".py",
   "mimetype": "text/x-python",
   "name": "python",
   "nbconvert_exporter": "python",
   "pygments_lexer": "ipython3",
   "version": "3.7.9"
  },
  "orig_nbformat": 4
 },
 "nbformat": 4,
 "nbformat_minor": 2
}
